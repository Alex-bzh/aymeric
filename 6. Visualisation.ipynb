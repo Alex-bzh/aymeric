{
 "cells": [
  {
   "cell_type": "markdown",
   "metadata": {},
   "source": [
    "# Visualisation\n",
    "\n",
    "Durant cet ultime chapitre, nous utiliserons une librairie de visualisation très connue dans le monde scientifique : *Matplotlib*. Mais avant cela, reprenons notre structure de données à l’état dans lequel nous l’avons laissée au chapitre précédent.\n",
    "\n",
    "La première étape consistait à récupérer et ordonner les données du fichier :"
   ]
  },
  {
   "cell_type": "code",
   "execution_count": null,
   "metadata": {},
   "outputs": [],
   "source": [
    "\"\"\"Récupérer et ordonner les données\"\"\"\n",
    "\n",
    "# Importation des modules\n",
    "import csv\n",
    "from collections import defaultdict\n",
    "\n",
    "# Chargement de la ressource dans une variable 'fichier'\n",
    "with open('notes.csv') as fichier:\n",
    "\n",
    "    # Création d'un lecteur de fichier\n",
    "    lecteur = csv.DictReader(fichier, delimiter='\\t')\n",
    "\n",
    "    # Sauvegarde des lignes du fichier\n",
    "    data = [ ligne for ligne in lecteur ]\n",
    "\n",
    "# Une liste de tuples par discipline\n",
    "data_dict = defaultdict(list)\n",
    "\n",
    "for d in data:\n",
    "    data_dict[d['discipline']].append(\n",
    "        ( d['date'], d['note'] )\n",
    "    )\n",
    "\n",
    "# Tri en place des dates par discpline\n",
    "for discipline, dates in data_dict.items():\n",
    "    dates.sort()"
   ]
  },
  {
   "cell_type": "markdown",
   "metadata": {},
   "source": [
    "Ensuite, nous avons effectué un calcul de la moyenne à date pour chaque discipline :"
   ]
  },
  {
   "cell_type": "code",
   "execution_count": null,
   "metadata": {},
   "outputs": [],
   "source": [
    "\"\"\"Calcul de la moyenne à date pour chaque discipline\"\"\"\n",
    "\n",
    "for discipline, resultats in data_dict.items():\n",
    "\n",
    "    # Total initialisé à 0\n",
    "    total = 0\n",
    "\n",
    "    # Pour chaque tour dans la boucle de la discipline\n",
    "    for i, (date, note) in enumerate(resultats):\n",
    "\n",
    "        # Calcul du total\n",
    "        total += int(note)\n",
    "\n",
    "        # Moyenne\n",
    "        moyenne = total / (i + 1)\n",
    "\n",
    "        # La ligne courante (date, note), devient (date, note, moyenne)\n",
    "        resultats[i] = (date, note, moyenne)"
   ]
  },
  {
   "cell_type": "markdown",
   "metadata": {},
   "source": [
    "Puis nous avons calculé la moyenne générale actualisée à chaque date :"
   ]
  },
  {
   "cell_type": "code",
   "execution_count": null,
   "metadata": {},
   "outputs": [],
   "source": [
    "\"\"\"\n",
    "    Calculer une moyenne générale :\n",
    "    1. Préparer la structure de données\n",
    "\"\"\"\n",
    "\n",
    "# Insertion d'une clé \"Générale\"\n",
    "data_dict['Générale'] = dict()\n",
    "\n",
    "# Pour chaque résultat dans le dictionnaire\n",
    "for discipline, resultat in data_dict.items():\n",
    "\n",
    "    # Si la discipline est différente de \"Générale\"\n",
    "    if discipline != 'Générale':\n",
    "\n",
    "        # Pour chaque triplet de date, note et moyenne\n",
    "        for date, note, moyenne in resultat:\n",
    "\n",
    "            # Ajouter une clé date avec pour valeur une structure float vide\n",
    "            data_dict['Générale'][date] = float()"
   ]
  },
  {
   "cell_type": "code",
   "execution_count": null,
   "metadata": {},
   "outputs": [],
   "source": [
    "\"\"\"\n",
    "    Calculer une moyenne générale :\n",
    "    2. Ajouter le calcul\n",
    "\"\"\"\n",
    "\n",
    "# Compteur et total initialisés à 0\n",
    "compteur, total = 0, 0\n",
    "\n",
    "# Pour chaque date unique\n",
    "for date_unique in sorted(data_dict['Générale']):\n",
    "\n",
    "    # Parcourir le dictionnaire\n",
    "    for discipline, resultat in data_dict.items():\n",
    "\n",
    "        # Seulement si la discipline n'est pas \"Générale\"\n",
    "        if discipline != 'Générale':\n",
    "\n",
    "            # On déplie le triplet\n",
    "            for date, note, moyenne in resultat:\n",
    "\n",
    "                # On vérifie que la date du résultat correspond à la date analysée\n",
    "                if date == date_unique:\n",
    "\n",
    "                    # Incrémentation du nombre de notes\n",
    "                    compteur += 1\n",
    "\n",
    "                    # Addition au total\n",
    "                    total += int(note)\n",
    "\n",
    "                    # Modification de la moyenne pour le jour\n",
    "                    data_dict['Générale'][date] = total / compteur"
   ]
  },
  {
   "cell_type": "markdown",
   "metadata": {},
   "source": [
    "## Trier un dictionnaire\n",
    "\n",
    "Dernière opération préparatoire avant l’affichage des diagrammes, nous allons trier les données de la clé `Générale` dans le dictionnaire `data_dict` dans l’ordre chronologique. Trier un dictionnaire est un peu plus délicat que trier une liste. Il n’existe par exemple pas de méthode `sort()` qui fasse un tri en place. La solution consiste à utiliser la fonction générale `sorted()` en spécifiant une clé de tri grâce au paramètre `key`. Comme les données sont représentées sous la forme `date: moyenne`, la clé de tri est bien la `date` et non la moyenne. On opère alors grâce à une fonction anonyme ou *lambda* :"
   ]
  },
  {
   "cell_type": "code",
   "execution_count": null,
   "metadata": {},
   "outputs": [],
   "source": [
    "# Tri par date\n",
    "# Remplacer les données actuelles par celles triées par date\n",
    "data_dict['Générale'] = sorted(data_dict['Générale'].items(), key=lambda d:d[0])"
   ]
  },
  {
   "cell_type": "markdown",
   "metadata": {},
   "source": [
    "Un avantage non négligeable de cette technique est qu’elle transforme ensuite ce qui était un dictionnaire en liste de tuples, la structure choisie pour les autres clés de notre `data_dict` !"
   ]
  },
  {
   "cell_type": "code",
   "execution_count": null,
   "metadata": {},
   "outputs": [],
   "source": [
    "# Affichage des 5 premiers résultats de la moyenne générale\n",
    "data_dict['Générale'][:5]"
   ]
  },
  {
   "cell_type": "markdown",
   "metadata": {},
   "source": [
    "## Produire des diagrammes\n",
    "\n",
    "### Un diagramme en barres\n",
    "\n",
    "Pour notre premier diagramme, l’objectif est simple : il s’agira de représenter visuellement la quantité de plusieurs modalités. Prenons le tirage d’un dés à six faces. Les modalités possibles sont limitées : soit le 1 est tiré, soit le 2… jusqu’au 6. Effectuons une centaine de tirages aléatoires de ce dé et comptabilisons le nombre de tirages pour chaque face :"
   ]
  },
  {
   "cell_type": "code",
   "execution_count": null,
   "metadata": {},
   "outputs": [],
   "source": [
    "from collections import Counter\n",
    "from random import choices\n",
    "\n",
    "# Une liste des faces d'un dé\n",
    "faces = list(range(1, 7))\n",
    "\n",
    "tirages = Counter(choices(faces, k=100))"
   ]
  },
  {
   "cell_type": "markdown",
   "metadata": {},
   "source": [
    "Pour rappel, un objet `Counter` ressemble à un dictionnaire, que nous pouvons ensuite trier par clé :"
   ]
  },
  {
   "cell_type": "code",
   "execution_count": null,
   "metadata": {},
   "outputs": [],
   "source": [
    "tirages = sorted(tirages.items(), key=lambda d:d[0])"
   ]
  },
  {
   "cell_type": "markdown",
   "metadata": {},
   "source": [
    "Notre variable `tirages` contient une liste de tuples avec toutes les données dont nous avons besoin. La première valeur de chaque tuple correspond à la face d’un dé, quant à la seconde, elle correspond au nombre de fois où cette face a été tirée.\n",
    "\n",
    "Un diagramme se positionne dans un plan cartésien à deux axes : un axe horizontal pour les abscisses (noté $x$) et un axe vertical pour les ordonnées (noté $y$). Répartissons nos données dans deux listes distinctes :"
   ]
  },
  {
   "cell_type": "code",
   "execution_count": null,
   "metadata": {},
   "outputs": [],
   "source": [
    "# Axe horizontal : faces d'un dés\n",
    "x = [ face for face, nb in tirages ]\n",
    "\n",
    "# Axe vertical : nombre de tirages\n",
    "y = [ nb for face, nb in tirages ]"
   ]
  },
  {
   "cell_type": "markdown",
   "metadata": {},
   "source": [
    "Occupons-nous à présent de la réalisation du diagramme. Elle passe par l’appel à un module `matplotlib` :"
   ]
  },
  {
   "cell_type": "code",
   "execution_count": null,
   "metadata": {},
   "outputs": [],
   "source": [
    "# Import du package \"pyplot\" renommé \"plt\"\n",
    "import matplotlib.pyplot as plt"
   ]
  },
  {
   "cell_type": "markdown",
   "metadata": {},
   "source": [
    "Il ne nous reste plus qu'à utiliser la méthode `bar()` avec nos données :"
   ]
  },
  {
   "cell_type": "code",
   "execution_count": null,
   "metadata": {},
   "outputs": [],
   "source": [
    "plt.bar(x, y)"
   ]
  },
  {
   "cell_type": "markdown",
   "metadata": {},
   "source": [
    "Parmi les améliorations possibles, définissons titres et légendes :"
   ]
  },
  {
   "cell_type": "code",
   "execution_count": null,
   "metadata": {},
   "outputs": [],
   "source": [
    "# Tracer une figure\n",
    "plt.figure()\n",
    "\n",
    "# Un titre\n",
    "plt.title('Tirages d’un dé à 6 faces')\n",
    "\n",
    "# Légende des abscisses\n",
    "plt.xlabel('Faces du dé')\n",
    "\n",
    "# Légende des ordonnées\n",
    "plt.ylabel('Nombre de tirages')\n",
    "\n",
    "# Construire le diagramme en barres\n",
    "plt.bar(x, y)\n",
    "\n",
    "# Afficher\n",
    "plt.show()"
   ]
  },
  {
   "cell_type": "markdown",
   "metadata": {},
   "source": [
    "### Une courbe d’évolution\n",
    "\n",
    "Prenons l’exemple de l’évolution du nombre de personnes hospitalisées de la Covid en Indre-et-Loire entre le 1er janvier et le 1er juin 2021. Les données sont les suivantes :"
   ]
  },
  {
   "cell_type": "code",
   "execution_count": null,
   "metadata": {},
   "outputs": [],
   "source": [
    "x = ['Janvier', 'Février', 'Mars', 'Avril', 'Mai', 'Juin']\n",
    "y = [155, 167, 174, 209, 218, 144]"
   ]
  },
  {
   "cell_type": "markdown",
   "metadata": {},
   "source": [
    "À toi d’essayer de paramétrer la courbe en utilisant cette fois-ci la méthode `plot()` :"
   ]
  },
  {
   "cell_type": "code",
   "execution_count": null,
   "metadata": {},
   "outputs": [],
   "source": [
    "# Ton code ici"
   ]
  },
  {
   "cell_type": "markdown",
   "metadata": {},
   "source": [
    "### Un nuage de points\n",
    "\n",
    "Un nuage de points est une manière élégante de représenter la distribution de valeurs tout en déterminant rapidement une tendance centrale. Dans l’exemple que nous suivons, plusieurs notes peuvent tomber un même jour. \n",
    "\n",
    "Réalisons deux listes :\n",
    "1. toutes les dates sans dédoublonnage ;\n",
    "2. toutes les notes."
   ]
  },
  {
   "cell_type": "code",
   "execution_count": null,
   "metadata": {},
   "outputs": [],
   "source": [
    "# Une liste des données\n",
    "donnees = list()\n",
    "\n",
    "# Pour chaque discipline\n",
    "for discipline, resultats in data_dict.items():\n",
    "    # Tant qu'elle ne correspond pas à \"Générale\"\n",
    "    if discipline != 'Générale':\n",
    "        # Insertion d'un tuple (date, note) dans la liste\n",
    "        for date, note, moyenne in resultats:\n",
    "            donnees.append(tuple([date, int(note)]))\n",
    "\n",
    "# Tri des tuples par ordre chronologique\n",
    "donnees = sorted(donnees, key=lambda t:t[0])"
   ]
  },
  {
   "cell_type": "markdown",
   "metadata": {},
   "source": [
    "Préparons nos axes $x$ et $y$ :"
   ]
  },
  {
   "cell_type": "code",
   "execution_count": null,
   "metadata": {},
   "outputs": [],
   "source": [
    "x = [ date for date, note in donnees ]\n",
    "y = [ note for date, note in donnees ]"
   ]
  },
  {
   "cell_type": "markdown",
   "metadata": {},
   "source": [
    "Avec la méthode `scatter()` et quelques autres aménagements, affichons notre nuage de points :"
   ]
  },
  {
   "cell_type": "code",
   "execution_count": null,
   "metadata": {},
   "outputs": [],
   "source": [
    "# Tracer une un plan avec certaines dimensions\n",
    "plt.figure(figsize=(15,6))\n",
    "\n",
    "# Les notes, sur l'axe des ordonnées, vont de 0 à 20\n",
    "plt.ylim(0,21)\n",
    "\n",
    "# Formatage automatique des dates (rotation + alignement)\n",
    "plt.gcf().autofmt_xdate()\n",
    "\n",
    "# Construire le nuage de points\n",
    "plt.scatter(x, y)\n",
    "\n",
    "# Afficher une date sur deux pour plus de visibilité\n",
    "ax = plt.gca()\n",
    "for label in ax.xaxis.get_ticklabels()[::2]:\n",
    "    label.set_visible(False)\n",
    "\n",
    "# Afficher\n",
    "plt.show()"
   ]
  },
  {
   "cell_type": "markdown",
   "metadata": {},
   "source": [
    "En un clin d’œil, grâce à ce genre de représentations, on observe que les notes de l’élève que nous suivons se situent dans une fourchette entre 5 et 15."
   ]
  },
  {
   "cell_type": "markdown",
   "metadata": {},
   "source": [
    "### Évolution de la moyenne en mathématiques\n",
    "\n",
    "Tu devrais être capable d’afficher sur une courbe l’évolution de la moyenne en mathématiques de notre élève. **Attention !** N’oublie pas que les notes sont au format *chaîne de caractères* et que tu devras probablement les convertir en entiers numériques."
   ]
  },
  {
   "cell_type": "code",
   "execution_count": null,
   "metadata": {},
   "outputs": [],
   "source": [
    "# Une liste de dates en abscisses\n",
    "\n",
    "# Une liste de moyennes en ordonnées\n"
   ]
  },
  {
   "cell_type": "code",
   "execution_count": null,
   "metadata": {},
   "outputs": [],
   "source": [
    "# Tracer une un plan avec certaines dimensions\n",
    "\n",
    "\n",
    "# La moyenne, sur l'axe des ordonnées, peut s'étendre de 0 à 20\n",
    "\n",
    "\n",
    "# Titre du diagramme\n",
    "\n",
    "\n",
    "# Légende de l'axe des ordonnées\n",
    "\n",
    "\n",
    "# Formatage automatique des dates\n",
    "\n",
    "\n",
    "# Construction de la courbe\n",
    "\n",
    "\n",
    "# Affichage du diagramme\n"
   ]
  },
  {
   "cell_type": "markdown",
   "metadata": {},
   "source": [
    "Il ne te reste plus qu’à généraliser le processus pour l’ensemble des disciplines !"
   ]
  }
 ],
 "metadata": {
  "kernelspec": {
   "display_name": "Python 3",
   "language": "python",
   "name": "python3"
  },
  "language_info": {
   "codemirror_mode": {
    "name": "ipython",
    "version": 3
   },
   "file_extension": ".py",
   "mimetype": "text/x-python",
   "name": "python",
   "nbconvert_exporter": "python",
   "pygments_lexer": "ipython3",
   "version": "3.9.5"
  }
 },
 "nbformat": 4,
 "nbformat_minor": 4
}

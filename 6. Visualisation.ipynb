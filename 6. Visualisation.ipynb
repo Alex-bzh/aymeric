{
 "cells": [
  {
   "cell_type": "markdown",
   "metadata": {},
   "source": [
    "# Visualisation"
   ]
  },
  {
   "cell_type": "code",
   "execution_count": null,
   "metadata": {},
   "outputs": [],
   "source": [
    "\"\"\"Récupérer et ordonner les données\"\"\"\n",
    "\n",
    "# Importation des modules\n",
    "import csv\n",
    "from collections import defaultdict\n",
    "\n",
    "# Chargement de la ressource dans une variable 'fichier'\n",
    "with open('notes.csv') as fichier:\n",
    "\n",
    "    # Création d'un lecteur de fichier\n",
    "    lecteur = csv.DictReader(fichier, delimiter='\\t')\n",
    "\n",
    "    # Sauvegarde des lignes du fichier\n",
    "    data = [ ligne for ligne in lecteur ]\n",
    "\n",
    "# Une liste de tuples par discipline\n",
    "data_dict = defaultdict(list)\n",
    "\n",
    "for d in data:\n",
    "    data_dict[d['discipline']].append(\n",
    "        ( d['date'], d['note'] )\n",
    "    )\n",
    "\n",
    "# Tri en place des dates par discpline\n",
    "for discipline, dates in data_dict.items():\n",
    "    dates.sort()"
   ]
  },
  {
   "cell_type": "code",
   "execution_count": null,
   "metadata": {},
   "outputs": [],
   "source": [
    "\"\"\"Calcul de la moyenne à date pour chaque discipline\"\"\"\n",
    "\n",
    "for discipline, resultats in data_dict.items():\n",
    "\n",
    "    # Total initialisé à 0\n",
    "    total = 0\n",
    "\n",
    "    # Pour chaque tour dans la boucle de la discipline\n",
    "    for i, (date, note) in enumerate(resultats):\n",
    "\n",
    "        # Calcul du total\n",
    "        total += int(note)\n",
    "\n",
    "        # Moyenne\n",
    "        moyenne = total / (i + 1)\n",
    "\n",
    "        # La ligne courante (date, note), devient (date, note, moyenne)\n",
    "        resultats[i] = (date, note, moyenne)"
   ]
  },
  {
   "cell_type": "code",
   "execution_count": null,
   "metadata": {},
   "outputs": [],
   "source": [
    "\n",
    "\n",
    "# Insertion d'une clé \"Générale\"\n",
    "data_dict['Générale'] = dict()\n",
    "\n",
    "# Pour chaque résultat dans le dictionnaire\n",
    "for discipline, resultat in data_dict.items():\n",
    "    # Si la discipline est différente de \"Générale\"\n",
    "    if discipline != 'Générale':\n",
    "        # Pour chaque triplet de date, note et moyenne\n",
    "        for date, note, moyenne in resultat:\n",
    "            # Ajouter une clé date avec pour valeur une structure float vide\n",
    "            data_dict['Générale'][date] = float()\n",
    "\n",
    "# Compteur et total initialisés à 0\n",
    "compteur, total = 0, 0"
   ]
  },
  {
   "cell_type": "code",
   "execution_count": null,
   "metadata": {},
   "outputs": [],
   "source": [
    "# Pour chaque date unique\n",
    "for date_unique in sorted(data_dict['Générale']):\n",
    "\n",
    "    # Parcourir le dictionnaire\n",
    "    for discipline, resultat in data_dict.items():\n",
    "\n",
    "        # Seulement si la discipline n'est pas \"Générale\"\n",
    "        if discipline != 'Générale':\n",
    "\n",
    "            # On déplie le triplet\n",
    "            for date, note, moyenne in resultat:\n",
    "\n",
    "                # On vérifie que la date du résultat correspond à la date analysée\n",
    "                if date == date_unique:\n",
    "\n",
    "                    # Incrémentation du nombre de notes\n",
    "                    compteur += 1\n",
    "\n",
    "                    # Addition au total\n",
    "                    total += int(note)\n",
    "\n",
    "                    # Modification de la moyenne pour le jour\n",
    "                    data_dict['Générale'][date] = total / compteur"
   ]
  },
  {
   "cell_type": "code",
   "execution_count": null,
   "metadata": {},
   "outputs": [],
   "source": [
    "import matplotlib.pyplot as plt\n",
    "\n",
    "%matplotlib inline\n",
    "%config InlineBackend.figure_format='retina'\n",
    "\n",
    "plt.figure(figsize=(15,8))\n",
    "plt.xticks(rotation=70)\n",
    "plt.plot(data_dict['Générale'].keys(), data_dict['Générale'].values())"
   ]
  },
  {
   "cell_type": "code",
   "execution_count": null,
   "metadata": {},
   "outputs": [],
   "source": []
  }
 ],
 "metadata": {
  "kernelspec": {
   "display_name": "Python 3",
   "language": "python",
   "name": "python3"
  },
  "language_info": {
   "codemirror_mode": {
    "name": "ipython",
    "version": 3
   },
   "file_extension": ".py",
   "mimetype": "text/x-python",
   "name": "python",
   "nbconvert_exporter": "python",
   "pygments_lexer": "ipython3",
   "version": "3.7.7"
  }
 },
 "nbformat": 4,
 "nbformat_minor": 4
}

{
 "cells": [
  {
   "cell_type": "markdown",
   "metadata": {},
   "source": [
    "# Manipuler des structures de données\n",
    "\n",
    "Dans cette partie, nous allons apprendre à manipuler différentes structures (listes, tuples, dictionnaires) afin d’obtenir au final des données facilement exploitables.\n",
    "\n",
    "Reprenons tout d’abord les données du fichier *notes.csv* que nous sauvegardons dans une variable `data` :"
   ]
  },
  {
   "cell_type": "code",
   "execution_count": null,
   "metadata": {},
   "outputs": [],
   "source": [
    "# Import du module CSV\n",
    "import csv\n",
    "\n",
    "# Chargement de la ressource dans une variable 'fichier'\n",
    "with open('notes.csv') as fichier:\n",
    "\n",
    "    # Création d'un lecteur de fichier\n",
    "    lecteur = csv.DictReader(fichier, delimiter='\\t')\n",
    "\n",
    "    # Sauvegarde des lignes du fichier\n",
    "    data = [ ligne for ligne in lecteur ]"
   ]
  },
  {
   "cell_type": "markdown",
   "metadata": {},
   "source": [
    "Si l’on observe les cinq premières lignes du fichier, on remarque facilement qu’elles ne respectent aucun critère de tri :"
   ]
  },
  {
   "cell_type": "code",
   "execution_count": null,
   "metadata": {},
   "outputs": [],
   "source": [
    "# Appel de l'itérateur sur \"data\"\n",
    "for enregistrement in data[:5]:\n",
    "    print(enregistrement)"
   ]
  },
  {
   "cell_type": "markdown",
   "metadata": {},
   "source": [
    "Autre remarque, plusieurs notes ont été attribuées le même jour :"
   ]
  },
  {
   "cell_type": "code",
   "execution_count": null,
   "metadata": {},
   "outputs": [],
   "source": [
    "# Un ensemble de dates (vide)\n",
    "dates = set()\n",
    "\n",
    "# Appel de l'itérateur sur \"data\"\n",
    "for d in data:\n",
    "    # Ajout de la date de l'enregistrement analysé\n",
    "    # dans l'ensemble des dates\n",
    "    dates.add(d['date'])\n",
    "\n",
    "# Affichage du nombre de dates dans l'ensemble des dates\n",
    "print(len(dates))"
   ]
  },
  {
   "cell_type": "markdown",
   "metadata": {},
   "source": [
    "Attardons-nous un peu sur cette nouvelle structure de données : l’ensemble. Sans entrer dans les détails, un ensemble fonctionne comme une liste, à l’exception près que toutes ses valeurs sont uniques (et que l’on peut réaliser dessus des opérations ensemblistes, mais ça c’est une autre histoire…).\n",
    "\n",
    "En conséquence, lorsque l’on met à jour la variable `dates` avec la date d’un enregistrement, Python vérifie d’abord qu’elle ne figure pas déjà dans l’ensemble. Ce comportement explique le fait que la cardinalité (taille) de `dates` soit seulement de 88 quand celle de `data` est de 100.\n",
    "\n",
    "À présent, effectue les mêmes opérations pour obtenir la cardinalité d’une variable `discipline` :"
   ]
  },
  {
   "cell_type": "code",
   "execution_count": null,
   "metadata": {},
   "outputs": [],
   "source": [
    "# Un ensemble de disciplines (vide)\n",
    "\n",
    "# Appel de l'itérateur sur \"data\"\n",
    "\n",
    "    # Ajout de la discipine de l'enregistrement analysé\n",
    "    # dans l'ensemble des disciplines\n",
    "\n",
    "\n",
    "# Affichage du nombre de disciplines dans l'ensemble des disciplines\n"
   ]
  },
  {
   "cell_type": "markdown",
   "metadata": {},
   "source": [
    "Ces deux remarques faites, nous allons organiser différemment nos enregistrements de telle manière à obtenir des données :\n",
    "1. regroupées par discipline ;\n",
    "2. triées par ordre chronologique.\n",
    "\n",
    "En Python, ça donnerait une structure sous la forme :\n",
    "\n",
    "```py\n",
    "{\n",
    "    'Français': [\n",
    "        ('2020-09-26', '13'),\n",
    "        ('2020-12-13', '7'),\n",
    "        ('2020-12-25', '6')\n",
    "    ],\n",
    "    'Sport': [\n",
    "        ('2021-01-06', '14'),\n",
    "        ('2021-01-19', '10')\n",
    "    ]\n",
    "}\n",
    "```"
   ]
  },
  {
   "cell_type": "markdown",
   "metadata": {},
   "source": [
    "## Regroupement par clés\n",
    "\n",
    "La première étape consiste à regrouper les enregistrements par date. Comme nous l’avons vu, plusieurs notes peuvent avoir été attribuées le même jour.\n",
    "\n",
    "Avant d’opérer sur la variable `data`, voyons comment réaliser la même opération sur d’autres données. Ci-dessous une liste de dictionnaires de plusieurs personnages de la série *Game of Thrones* et de leurs maisons d’appartenance :"
   ]
  },
  {
   "cell_type": "code",
   "execution_count": null,
   "metadata": {},
   "outputs": [],
   "source": [
    "GoT = [\n",
    "    { 'maison': 'Lannister', 'personnage': 'Jaime', 'sexe': 'H' },\n",
    "    { 'maison': 'Stark', 'personnage': 'Arya', 'sexe': 'F' },\n",
    "    { 'maison': 'Targaryen', 'personnage': 'Daenerys', 'sexe': 'F' },\n",
    "    { 'maison': 'Targaryen', 'personnage': 'Rhaegar', 'sexe': 'H' },\n",
    "    { 'maison': 'Lannister', 'personnage': 'Cersei', 'sexe': 'F' },\n",
    "]"
   ]
  },
  {
   "cell_type": "markdown",
   "metadata": {},
   "source": [
    "L’objectif est de regrouper par maison les différents personnages de la variable `GoT`. Pour cela, nous allons appeler une structure de données particulière appelée `defaultdict` du module `collections` :"
   ]
  },
  {
   "cell_type": "code",
   "execution_count": null,
   "metadata": {},
   "outputs": [],
   "source": [
    "# Import de la structure \"defaultdict\"\n",
    "from collections import defaultdict\n",
    "\n",
    "# Une liste avec regroupement par clés\n",
    "GoT_dict = defaultdict(list)\n",
    "\n",
    "# Appel de l'itérateur embarqué dans \"GoT\"\n",
    "for d in GoT:\n",
    "    # Mise à jour de \"GoT_dict\":\n",
    "    # pour chaque clé \"d['maison']\"\n",
    "    # on ajoute un tuple dans lequel on trouve :\n",
    "    # \"d['personnage']\" et \"d['sexe']\"\n",
    "    GoT_dict[d['maison']].append(\n",
    "        (d['personnage'], d['sexe'])\n",
    "    )"
   ]
  },
  {
   "cell_type": "markdown",
   "metadata": {},
   "source": [
    "À noter que la méthode `append()` est native des structures de données de type `list`. Elle permet d’ajouter un élément à la suite des autres.\n",
    "\n",
    "Jetons un œil à l’objet généré par le programme :"
   ]
  },
  {
   "cell_type": "code",
   "execution_count": null,
   "metadata": {},
   "outputs": [],
   "source": [
    "print(GoT_dict)"
   ]
  },
  {
   "cell_type": "markdown",
   "metadata": {},
   "source": [
    "Les maisons Lannister et Targaryen sont toutes deux constituées de deux personnages quand un seul compose la maison Stark. Affichons plus simplement le contenu de la variable `GoT_dict` :"
   ]
  },
  {
   "cell_type": "code",
   "execution_count": null,
   "metadata": {},
   "outputs": [],
   "source": [
    "# Pour chaque maison et ses personnages dans le dictinnaire\n",
    "for maison, personnages in GoT_dict.items():\n",
    "\n",
    "    # On affiche le nom de la maison (clé du dictionnaire)\n",
    "    print(maison)\n",
    "\n",
    "    # Pour chaque personnage\n",
    "    for personnage, sexe in personnages:\n",
    "        # On affiche son nom et son sexe\n",
    "        print(f\"\\t- { personnage } ({ sexe })\")"
   ]
  },
  {
   "cell_type": "markdown",
   "metadata": {},
   "source": [
    "À présent, essaie de créer une structure `data_dict` sur le modèle précédent, avec pour clé la discipline d’un enregistrement et, pour valeurs, un tuple composé de la date et de la note."
   ]
  },
  {
   "cell_type": "code",
   "execution_count": null,
   "metadata": {},
   "outputs": [],
   "source": [
    "# Import de la structure \"defaultdict\"\n",
    "\n",
    "\n",
    "# Une liste avec regroupement par clés\n",
    "\n",
    "\n",
    "# Appel de l'itérateur embarqué dans \"data\"\n",
    "\n",
    "    # Mise à jour de \"data_dict\":\n",
    "    # pour chaque clé \"d['discipline']\"\n",
    "    # on ajoute un tuple dans lequel on trouve :\n",
    "    # \"d['date']\" et \"d['note']\"\n",
    "\n",
    "\n"
   ]
  },
  {
   "cell_type": "markdown",
   "metadata": {},
   "source": [
    "## Trier les données\n",
    "\n",
    "Regardons attentivement l’organisation des notes pour une discipline, les mathématiques :"
   ]
  },
  {
   "cell_type": "code",
   "execution_count": null,
   "metadata": {},
   "outputs": [],
   "source": [
    "# Consulter la clé \"Mathématiques\" du dictionnaire \"data_dict\"\n",
    "data_dict['Mathématiques']"
   ]
  },
  {
   "cell_type": "markdown",
   "metadata": {},
   "source": [
    "Les notes, organisées sous forme de liste de tuples, ne sont pas triées. Regardons avant tout comment trier une liste d’éléments simples :"
   ]
  },
  {
   "cell_type": "code",
   "execution_count": null,
   "metadata": {},
   "outputs": [],
   "source": [
    "# Une liste de nombres\n",
    "liste = [12, 6, 90, 1, 13]"
   ]
  },
  {
   "cell_type": "markdown",
   "metadata": {},
   "source": [
    "La fonction `sorted()` permet de trier les éléments du plus petit au plus grand, sans modifier la liste initiale :"
   ]
  },
  {
   "cell_type": "code",
   "execution_count": null,
   "metadata": {},
   "outputs": [],
   "source": [
    "# Affichage de la liste triée\n",
    "print(sorted(liste))\n",
    "\n",
    "# Affichage de la liste originale, intacte\n",
    "print(liste)"
   ]
  },
  {
   "cell_type": "markdown",
   "metadata": {},
   "source": [
    "Une autre manière de trier une liste passe par l’invocation d’une méthode `sort()` sur l’objet de type `list`. À ce moment, on parle de tri en place, car la liste originale est modifiée de manière irréversible :"
   ]
  },
  {
   "cell_type": "code",
   "execution_count": null,
   "metadata": {},
   "outputs": [],
   "source": [
    "# Tri en place \n",
    "liste.sort()\n",
    "print(liste)"
   ]
  },
  {
   "cell_type": "markdown",
   "metadata": {},
   "source": [
    "Pour t’entraîner, affiche les personnages de la maison Lannister :"
   ]
  },
  {
   "cell_type": "code",
   "execution_count": null,
   "metadata": {},
   "outputs": [],
   "source": [
    "# Consulter la clé \"Lannister\" du dictionnaire GoT_dict\n"
   ]
  },
  {
   "cell_type": "markdown",
   "metadata": {},
   "source": [
    "Les personnages ne sont pas triés par ordre alphabétique ! Essayons de le faire :"
   ]
  },
  {
   "cell_type": "code",
   "execution_count": null,
   "metadata": {},
   "outputs": [],
   "source": [
    "# Pour chaque maison et ses personnages dans le dictionnaire\n",
    "for maison, personnages in GoT_dict.items():\n",
    "    # Trier les personnages du plus petit au plus grand\n",
    "    personnages.sort()\n",
    "\n",
    "# Vérifier la bonne exécution de la commande\n",
    "GoT_dict['Lannister']"
   ]
  },
  {
   "cell_type": "markdown",
   "metadata": {},
   "source": [
    "À ton tour de trier les tuples `(date, note)` par ordre croissant de date pour chaque discipline :"
   ]
  },
  {
   "cell_type": "code",
   "execution_count": null,
   "metadata": {},
   "outputs": [],
   "source": [
    "# Pour chaque discipline et les dates de ses notes\n",
    "\n",
    "    # Trier les dates\n",
    "\n",
    "\n",
    "# Vérifier pour la clé \"Mathématiques\"\n"
   ]
  }
 ],
 "metadata": {
  "kernelspec": {
   "display_name": "Python 3",
   "language": "python",
   "name": "python3"
  },
  "language_info": {
   "codemirror_mode": {
    "name": "ipython",
    "version": 3
   },
   "file_extension": ".py",
   "mimetype": "text/x-python",
   "name": "python",
   "nbconvert_exporter": "python",
   "pygments_lexer": "ipython3",
   "version": "3.7.7"
  }
 },
 "nbformat": 4,
 "nbformat_minor": 5
}

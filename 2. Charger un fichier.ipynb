{
 "cells": [
  {
   "cell_type": "markdown",
   "id": "f8d02966",
   "metadata": {},
   "source": [
    "# Un jeu de données\n",
    "\n",
    "## Description\n",
    "\n",
    "Nous disposons d’un jeu de données, consigné dans un fichier intutulé `notes.csv`. L’extension `.csv` indique que nous sommes en présence d’un fichier au format CSV (*comma-separated values*) ou chaque ligne est un enregistrement et où, pour chaque enregistrement, il existe plusieurs valeurs séparées les unes des autres par un délimiteur.\n",
    "\n",
    "Le fichier peut se représenter par un tableau à deux dimensions :\n",
    "\n",
    "|date|note|discipline|\n",
    "|:-:|:-:|:-|\n",
    "|2021-03-11|10|Mathématiques|\n",
    "|2020-11-15|13|Histoire et géographie|\n",
    "|2020-09-12|8|Sciences de la vie et de la terre|\n",
    "|2021-01-15|12|Mathématiques\n",
    "\n",
    "Si la structure se comprend facilement (une note dans une discipline à une date donnée), remarquons d’emblée que les enregistrements ne sont pas triés : la première note de 10 en mathématiques, obtenue le 11 mars 2021 apparaît dans le fichier **avant** la seconde, obtenue presque deux mois plus tôt.\n",
    "\n",
    "Signalons enfin que les notes vont de 0 à 20 et qu’elles ont été consignées entre le 3 septembre 2020 et le 7 juin 2021."
   ]
  },
  {
   "cell_type": "markdown",
   "id": "849e76b8",
   "metadata": {},
   "source": [
    "## Charger un fichier\n",
    "\n",
    "La première étape de notre programme consiste à charger le fichier CSV dans la mémoire de l’ordinateur sous une forme compréhensible pour le langage que nous utilisons, Python.\n",
    "\n",
    "Pour réaliser cette opération, nous allons tout d’abord charger une librairie spécifique qui permet de manipuler facilement un objet CSV. Sachant que la librairie s’appelle `csv`, que l’on importe un module par son nom avec le mot-clé `import`, essayons d’effectuer l’opération :"
   ]
  },
  {
   "cell_type": "code",
   "execution_count": null,
   "id": "de57eceb",
   "metadata": {},
   "outputs": [],
   "source": [
    "# Syntaxe : mot-clé nom-du-module\n"
   ]
  },
  {
   "cell_type": "markdown",
   "id": "fc9c10b4",
   "metadata": {},
   "source": [
    "Si l’importation du module a réussi, l’instruction ci-dessous ne devrait pas lever d’exception :"
   ]
  },
  {
   "cell_type": "code",
   "execution_count": null,
   "id": "6bb096fd",
   "metadata": {},
   "outputs": [],
   "source": [
    "help(csv)"
   ]
  },
  {
   "cell_type": "markdown",
   "id": "5a25e8d1",
   "metadata": {},
   "source": [
    "Le module `csv` offre des facilités pour manipuler des fichiers au format CSV. L’appel au module permet de charger en mémoire tous les outils sous forme de fonctions que l’on peut appeler par leurs noms.\n",
    "\n",
    "Dans un second temps, nous devons définir une ressource à travers laquelle le fichier CSV sera interrogé :"
   ]
  },
  {
   "cell_type": "code",
   "execution_count": null,
   "id": "d402a068",
   "metadata": {},
   "outputs": [],
   "source": [
    "# Chargement de la ressource dans une variable 'fichier'\n",
    "with open('notes.csv') as fichier:\n",
    "\n",
    "    # La suite des instructions sera saisie à l'intérieur de ce bloc,\n",
    "    # comme l'instruction print() ci-dessous :\n",
    "    print('Le fichier a bien été trouvé dans le système. Il est disponible sous forme d’objet :\\n', fichier)"
   ]
  },
  {
   "cell_type": "markdown",
   "id": "05dc5c47",
   "metadata": {},
   "source": [
    "Il reste maintenant à récupérer le contenu du fichier :"
   ]
  },
  {
   "cell_type": "code",
   "execution_count": null,
   "id": "3b49b092",
   "metadata": {},
   "outputs": [],
   "source": [
    "# Chargement de la ressource dans une variable 'fichier'\n",
    "with open('notes.csv') as fichier:\n",
    "\n",
    "    # Création d'un lecteur de fichier\n",
    "    lecteur = csv.reader(fichier)"
   ]
  },
  {
   "cell_type": "code",
   "execution_count": null,
   "id": "7e98757a",
   "metadata": {},
   "outputs": [],
   "source": [
    "# Chargement de la ressource dans une variable 'fichier'\n",
    "with open('notes.csv') as fichier:\n",
    "\n",
    "    # Création d'un lecteur de fichier\n",
    "    lecteur = csv.reader(fichier)"
   ]
  },
  {
   "cell_type": "markdown",
   "id": "6565c880",
   "metadata": {},
   "source": [
    "Le lecteur en lui-même ne reflète pas directement le contenu du fichier. Il s’agit d’un objet qui met à disposition des outils pour disposer du contenu. L’un de ces outils est ce que l’on appelle un itérateur : il permet de parcourir la structure du contenu pas à pas. En l’occurrence, le fichier est composé de plusieurs lignes, aussi l’unité de l’itérateur sera la ligne :"
   ]
  },
  {
   "cell_type": "code",
   "execution_count": null,
   "id": "f8ae4969",
   "metadata": {},
   "outputs": [],
   "source": [
    "# Chargement de la ressource dans une variable 'fichier'\n",
    "with open('notes.csv') as fichier:\n",
    "\n",
    "    # Création d'un lecteur de fichier\n",
    "    lecteur = csv.reader(fichier)\n",
    "    \n",
    "    # Appel de l'itérateur…\n",
    "    for ligne in lecteur:\n",
    "        # … pour afficher ligne par ligne\n",
    "        print(ligne)"
   ]
  },
  {
   "cell_type": "markdown",
   "id": "7d6d3c1b",
   "metadata": {},
   "source": [
    "On observe que les lignes n’ont pas été importées correctement. En effet, si on en choisit une au hasard, on remarque l’écriture suivante :\n",
    "\n",
    "```py\n",
    "['2021-01-10\\t6\\tFrançais']\n",
    "```\n",
    "\n",
    "Un motif bien étrange (`\\t`) s’intercale entre les éléments de l’enregistrement. Ce motif représente pour le langage Python une tabulation et son apparition au sein d’un enregistrement indique simplement qu’il n’a pas été interprété comme un séparateur de champ, sa fonction réelle, mais comme n’importe quel autre caractère.\n",
    "\n",
    "Pour comprendre cette fonctionnalité, il faut avant tout savoir que le format CSV vaut pour *comma-separated values*, où *comma* en anglais signifie *virgule* en français. Le format CSV est donc un format structuré où la virgule matérialise la séparation entre les différents champs (colonnes) d’un enregistrement.\n",
    "\n",
    "Or, dans le fichier *notes.csv*, les champs ne sont pas séparés par une virgule, mais par une tabulation. Il s’agit d’un paramètre à configurer dans notre lecteur :"
   ]
  },
  {
   "cell_type": "code",
   "execution_count": null,
   "id": "c5d6cc67",
   "metadata": {},
   "outputs": [],
   "source": [
    "# Chargement de la ressource dans une variable 'fichier'\n",
    "with open('notes.csv') as fichier:\n",
    "\n",
    "    # Création d'un lecteur de fichier\n",
    "    lecteur = csv.reader(fichier, delimiter='\\t')\n",
    "\n",
    "    # Appel de l'itérateur…\n",
    "    for ligne in lecteur:\n",
    "        # … pour afficher ligne par ligne\n",
    "        print(ligne)"
   ]
  },
  {
   "cell_type": "markdown",
   "id": "dcf649f4",
   "metadata": {},
   "source": [
    "## Charger un fichier (avancé)\n",
    "\n",
    "Dans l’exemple précédent, nous avons chargé un lecteur simple où chaque ligne du fichier est une liste d’éléments qui décrivent un enregistrement (la date, la note, la discipline). Avec un peu plus d’attention, nous remarquons que la première ligne est spéciale : il ne s’agit pas d’un enregistrement, mais du nom des colonnes du fichier, autrement dit son en-tête.\n",
    "\n",
    "```py\n",
    "# 1e ligne du fichier pour Python :\n",
    "['date', 'note', 'discipline']\n",
    "```\n",
    "\n",
    "Pour obtenir ce résultat, nous avons appelé une méthode `reader` du module `csv`.\n",
    "\n",
    "```py\n",
    "# Création d'un lecteur de fichier\n",
    "lecteur = csv.reader(fichier, delimiter='\\t')\n",
    "```\n",
    "\n",
    "Il existe une autre méthode, nommée `DictReader()` qui permet, tout comme `reader()`, de récupérer le contenu du fichier, mais sous forme de dictionnaire où l’en-tête du fichier fournit le nom des clés.\n",
    "\n",
    "À toi de reprendre les étapes précédentes et d’afficher toutes les lignes du fichier grâce à la méthode `DictReader()` :"
   ]
  },
  {
   "cell_type": "code",
   "execution_count": null,
   "id": "b1e2a126",
   "metadata": {},
   "outputs": [],
   "source": [
    "# Chargement de la ressource dans une variable 'fichier'\n",
    "\n",
    "\n",
    "    # Création d'un lecteur de fichier\n",
    "    \n",
    "    \n",
    "    # Appel de l'itérateur…\n",
    "    \n",
    "        # … pour afficher ligne par ligne\n",
    "        "
   ]
  },
  {
   "cell_type": "markdown",
   "id": "f5d0b7f5",
   "metadata": {},
   "source": [
    "## Enregistrer les données dans une structure\n",
    "\n",
    "À l’étape précédente, tu as simplement affiché le contenu du fichier ligne par ligne mais, une fois l’instruction terminée, tout a disparu : aucune donnée n’a été sauvegardée en mémoire !\n",
    "\n",
    "Pour remédier à ce problème, on a plutôt pour habitude d’enregistrer les données dans une variable (une espèce de carton dans lequel on dispose plein de choses), disponible à une certaine adresse dans la mémoire vive de l’ordinateur.\n",
    "\n",
    "Avant d’en arriver là, nous allons apprendre à créer une structure de données de type `list()` à l’intérieur de laquelle nous allons ranger des éléments. Pour les besoins de l’exercice, nous allons partir d’un mot afin de constituer une liste de lettres."
   ]
  },
  {
   "cell_type": "code",
   "execution_count": null,
   "id": "722fadab",
   "metadata": {},
   "outputs": [],
   "source": [
    "# Un mot\n",
    "mot = 'Bazinga'\n",
    "\n",
    "# Un mot est une chaîne de caractères\n",
    "print(type(mot))"
   ]
  },
  {
   "cell_type": "markdown",
   "id": "230c4d50",
   "metadata": {},
   "source": [
    "Les chaînes de caractères, comme tout à l’heure pour le lecteur que nous avions créé, disposent d’un itérateur qui permet de lister leurs éléments. En l’occurrence, l’unité est le caractère :"
   ]
  },
  {
   "cell_type": "code",
   "execution_count": null,
   "id": "9c185c5b",
   "metadata": {},
   "outputs": [],
   "source": [
    "# Appel de l'itérateur sur le mot\n",
    "for lettre in mot:\n",
    "    # Affichage de chaque unité (le caractère)\n",
    "    print(lettre)"
   ]
  },
  {
   "cell_type": "markdown",
   "id": "8d91451c",
   "metadata": {},
   "source": [
    "Grâce à une compréhension de liste, nous allons maintenant créer un objet dans lequel sera stocké la liste des lettres :"
   ]
  },
  {
   "cell_type": "code",
   "execution_count": null,
   "id": "34c3cc99",
   "metadata": {},
   "outputs": [],
   "source": [
    "# Création d'une liste des lettres du mot\n",
    "lettres = [ lettre for lettre in mot ]\n",
    "\n",
    "# Affichage de la liste des lettres\n",
    "print(lettres)"
   ]
  },
  {
   "cell_type": "markdown",
   "id": "0e0721f2",
   "metadata": {},
   "source": [
    "Essaie d’afficher le type de l’objet que nous venons de créer :"
   ]
  },
  {
   "cell_type": "code",
   "execution_count": null,
   "id": "73e813ab",
   "metadata": {},
   "outputs": [],
   "source": [
    "# L'objet \"lettres\" est de type…\n"
   ]
  },
  {
   "cell_type": "markdown",
   "id": "0364548c",
   "metadata": {},
   "source": [
    "Modifie à présent ton code pour obtenir au final une variable `data` qui sera une liste des lignes du fichier :"
   ]
  },
  {
   "cell_type": "code",
   "execution_count": null,
   "id": "0aa15b0d",
   "metadata": {},
   "outputs": [],
   "source": [
    "# Chargement de la ressource dans une variable 'fichier'\n",
    "\n",
    "\n",
    "    # Création d'un lecteur de fichier\n",
    "    \n",
    "    \n",
    "    # Sauvegarde des lignes du fichier\n",
    "    "
   ]
  },
  {
   "cell_type": "markdown",
   "id": "31bc966a",
   "metadata": {},
   "source": [
    "Vérifions le résultat :"
   ]
  },
  {
   "cell_type": "code",
   "execution_count": null,
   "id": "f437a8d9",
   "metadata": {},
   "outputs": [],
   "source": [
    "# Affichage des dix premiers éléments de la liste \"data\"\n",
    "data[:10]"
   ]
  }
 ],
 "metadata": {
  "kernelspec": {
   "display_name": "Python 3",
   "language": "python",
   "name": "python3"
  },
  "language_info": {
   "codemirror_mode": {
    "name": "ipython",
    "version": 3
   },
   "file_extension": ".py",
   "mimetype": "text/x-python",
   "name": "python",
   "nbconvert_exporter": "python",
   "pygments_lexer": "ipython3",
   "version": "3.9.5"
  }
 },
 "nbformat": 4,
 "nbformat_minor": 5
}

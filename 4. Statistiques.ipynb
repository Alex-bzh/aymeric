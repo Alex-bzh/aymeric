{
 "cells": [
  {
   "cell_type": "markdown",
   "metadata": {},
   "source": [
    "# Des mesures de position\n",
    "\n",
    "Ce chapitre traite de quelques mesures de position en statistiques : la minimale, la maximale, le mode et la moyenne arithmétique.\n",
    "\n",
    "|Mesure|Définition|\n",
    "|:-|:-|\n",
    "|**Minimale**|Valeur la plus faible dans une série|\n",
    "|**Maximale**|Valeur la plus forte dans une série|\n",
    "|**Mode**|Valeur la plus fréquente dans une série|\n",
    "|**Moyenne arithmétique**|Division de la somme des valeurs par le nombre d’enregistrements|\n",
    "\n",
    "Reprenons tout d’abord l’état de notre structure de données :"
   ]
  },
  {
   "cell_type": "code",
   "execution_count": null,
   "metadata": {},
   "outputs": [],
   "source": [
    "# Importation des modules\n",
    "import csv\n",
    "from collections import defaultdict\n",
    "\n",
    "# Chargement de la ressource dans une variable 'fichier'\n",
    "with open('notes.csv') as fichier:\n",
    "\n",
    "    # Création d'un lecteur de fichier\n",
    "    lecteur = csv.DictReader(fichier, delimiter='\\t')\n",
    "\n",
    "    # Sauvegarde des lignes du fichier\n",
    "    data = [ ligne for ligne in lecteur ]\n",
    "\n",
    "# Une liste de tuples par discipline\n",
    "data_dict = defaultdict(list)\n",
    "\n",
    "for d in data:\n",
    "    data_dict[d['discipline']].append(\n",
    "        ( d['date'], d['note'] )\n",
    "    )\n",
    "\n",
    "# Tri en place des dates par discpline\n",
    "for discipline, dates in data_dict.items():\n",
    "    dates.sort()"
   ]
  },
  {
   "cell_type": "markdown",
   "metadata": {},
   "source": [
    "Pour mémoire, il s’agit d’un dictionnaire dont la clé d’accès est une discipline :"
   ]
  },
  {
   "cell_type": "code",
   "execution_count": null,
   "metadata": {},
   "outputs": [],
   "source": [
    "data_dict['Mathématiques']"
   ]
  },
  {
   "cell_type": "markdown",
   "metadata": {},
   "source": [
    "Et, pour chaque discipline, on retrouve une liste de tuples comprenant la date d’attribution d’une note et la note elle-même :"
   ]
  },
  {
   "cell_type": "code",
   "execution_count": null,
   "metadata": {},
   "outputs": [],
   "source": [
    "for discipline, dates in data_dict.items():\n",
    "    print(discipline)\n",
    "    for date, note in dates:\n",
    "        print(f\"\\t{date} : {note}\")"
   ]
  },
  {
   "cell_type": "markdown",
   "metadata": {},
   "source": [
    "## La minimale et la maximale\n",
    "\n",
    "Les valeurs minimale et maximale d’une série permettent de définir les limites supérieures et inférieures d’une série mathématique. Il existe des fonctions natives Python (`min()` et `max()`) qui permettent de les identifier facilement :"
   ]
  },
  {
   "cell_type": "code",
   "execution_count": null,
   "metadata": {},
   "outputs": [],
   "source": [
    "# Sélection des résultats en maths\n",
    "mathematiques = data_dict[\"Mathématiques\"]\n",
    "\n",
    "# Sélection des notes obtenues en maths\n",
    "notes = [ note for date, note in mathematiques ]\n",
    "\n",
    "# Affichage des valeurs minimale et maximale\n",
    "print(min(notes))\n",
    "print(max(notes))"
   ]
  },
  {
   "cell_type": "markdown",
   "metadata": {},
   "source": [
    "**Comment ?!** La valeur minimale est 10 quand la maximale est 9 ?\n",
    "\n",
    "Ce résultat aberrant s’explique en fait très bien. Si l’on interroge le type de chaque note, on remarque que les notes sont analysées comme des chaînes de caractère et non des entiers numériques !"
   ]
  },
  {
   "cell_type": "code",
   "execution_count": null,
   "metadata": {},
   "outputs": [],
   "source": [
    "for note in notes:\n",
    "    print(type(note))"
   ]
  },
  {
   "cell_type": "markdown",
   "metadata": {},
   "source": [
    "La solution consiste à effectuer une conversion de type de `str` vers `int` :"
   ]
  },
  {
   "cell_type": "code",
   "execution_count": null,
   "metadata": {},
   "outputs": [],
   "source": [
    "# Sélection des notes obtenues en maths, au format numérique\n",
    "notes = [ int(note) for date, note in mathematiques ]"
   ]
  },
  {
   "cell_type": "code",
   "execution_count": null,
   "metadata": {},
   "outputs": [],
   "source": [
    "# Cette fois-ci, le résultat est cohérent\n",
    "print(f\"La note minimale est { min(notes) } et la note maximale est { max(notes) }\")"
   ]
  },
  {
   "cell_type": "markdown",
   "metadata": {},
   "source": [
    "## Le mode\n",
    "\n",
    "Le mode représente la valeur la plus fréquente dans une série ou, autrement dit, le motif qui apparaît le plus souvent dans une liste.\n",
    "\n",
    "Par exemple, dans le mot *bazinga*, la lettre *a* est celle qui apparaît le plus souvent avec ses deux occurrences. On peut compter le nombre d’occurrences grâce à la méthode `count()` :"
   ]
  },
  {
   "cell_type": "code",
   "execution_count": null,
   "metadata": {},
   "outputs": [],
   "source": [
    "mot = 'bazinga'\n",
    "mot.count('a')"
   ]
  },
  {
   "cell_type": "markdown",
   "metadata": {},
   "source": [
    "Cette méthode, toutefois, ne permet pas de dire en un seul coup d’œil quelle lettre est la plus fréquente. Il faudrait créer un algorithme compliqué pour calculer le nombre d’occurrences de chaque lettre puis comparer leurs fréquences pour révéler la valeur maximale :"
   ]
  },
  {
   "cell_type": "code",
   "execution_count": null,
   "metadata": {},
   "outputs": [],
   "source": [
    "# Un ensemble de tuples (lettre, nb occurrences)\n",
    "frequences = set()\n",
    "\n",
    "# Pour chaque lettre dans le mot\n",
    "for lettre in mot:\n",
    "    # On ajoute dans l'ensemble la lettre et\n",
    "    # le nombre de ses occurrences\n",
    "    frequences.add(\n",
    "        (lettre, mot.count(lettre))\n",
    "    )\n",
    "\n",
    "# Lettre la plus fréquente\n",
    "maxi = tuple(['', 0])\n",
    "\n",
    "# Pour chaque lettre et sa fréquence dans l'ensemble\n",
    "for lettre, frequence in frequences:\n",
    "    # Si la fréquence est supérieure à celle déjà enregistrée…\n",
    "    if frequence > maxi[1]:\n",
    "        # … on la remplace !\n",
    "        maxi = (lettre, frequence)"
   ]
  },
  {
   "cell_type": "markdown",
   "metadata": {},
   "source": [
    "Une technique bien plus simple consiste à utiliser un objet de type `Counter` du module `collections` :"
   ]
  },
  {
   "cell_type": "code",
   "execution_count": null,
   "metadata": {},
   "outputs": [],
   "source": [
    "# Import classe Counter\n",
    "from collections import Counter\n",
    "\n",
    "# Liste des occurrences de chaque lettre du mot\n",
    "lettres = Counter(mot)\n",
    "\n",
    "# Affichage de la lettre la plus fréquente\n",
    "lettre, nb = lettres.most_common(1)[0]\n",
    "print(f'La lettre la plus fréquente dans le mot \"{mot}\" est le \"{lettre}\", qui apparaît {nb} fois en tout.')"
   ]
  },
  {
   "cell_type": "markdown",
   "metadata": {},
   "source": [
    "Grâce à cette technique, essaie de repérer la note la plus fréquente en maths !"
   ]
  },
  {
   "cell_type": "code",
   "execution_count": null,
   "metadata": {},
   "outputs": [],
   "source": [
    "# Import classe Counter\n",
    "\n",
    "\n",
    "# Liste des occurrences de chaque note en maths\n",
    "\n",
    "\n",
    "# Affichage de la note la plus fréquente\n",
    "\n",
    "print(f\"Le mode des résultats en maths est le {note} avec {nb} apparitions.\")"
   ]
  },
  {
   "cell_type": "markdown",
   "metadata": {},
   "source": [
    "## La moyenne arithmétique\n",
    "\n",
    "La moyenne arithmétique s’obtient par le calcul suivant : $\\bar{x} = \\dfrac{x_{(1)} + x_{(2)} + \\ldots + x_{(n)}}{n}$\n",
    "\n",
    "Très simplement, il s’agit de diviser une somme par le nombre de ses éléments :"
   ]
  },
  {
   "cell_type": "code",
   "execution_count": null,
   "metadata": {},
   "outputs": [],
   "source": [
    "# Une liste de valeurs\n",
    "liste = [12, 8, 9, 16, 3]\n",
    "\n",
    "# Somme des valeurs\n",
    "somme = sum(liste)\n",
    "\n",
    "# Nombre de valeurs\n",
    "nb = len(liste)\n",
    "\n",
    "# Moyenne\n",
    "moyenne = somme/nb\n",
    "\n",
    "# Affichage de la moyenne\n",
    "print(moyenne)"
   ]
  },
  {
   "cell_type": "markdown",
   "metadata": {},
   "source": [
    "Juste avec ces éléments, tu devrais être en mesure de calculer la moyenne arithmétique des notes en maths !"
   ]
  },
  {
   "cell_type": "code",
   "execution_count": null,
   "metadata": {},
   "outputs": [],
   "source": [
    "# Somme des notes\n",
    "\n",
    "\n",
    "# Nombre de notes\n",
    "\n",
    "\n",
    "# Moyenne\n"
   ]
  }
 ],
 "metadata": {
  "kernelspec": {
   "display_name": "Python 3",
   "language": "python",
   "name": "python3"
  },
  "language_info": {
   "codemirror_mode": {
    "name": "ipython",
    "version": 3
   },
   "file_extension": ".py",
   "mimetype": "text/x-python",
   "name": "python",
   "nbconvert_exporter": "python",
   "pygments_lexer": "ipython3",
   "version": "3.7.7"
  }
 },
 "nbformat": 4,
 "nbformat_minor": 4
}

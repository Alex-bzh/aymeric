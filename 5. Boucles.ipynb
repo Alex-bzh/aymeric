{
 "cells": [
  {
   "cell_type": "markdown",
   "metadata": {},
   "source": [
    "# Avancée dans les structures itératives\n",
    "\n",
    "Dans ce *notebook*, nous allons compléter les données compilées du fichier CSV avec des moyennes actualisées pour chaque discpline ainsi qu’une moyenne générale tout aussi actualisée.\n",
    "\n",
    "Par exemple, l’élève que nous suivons obtient sa première note de l’année, un 13, en français, le 26 septembre. Ses moyennes générale et dans la discipline sont donc toutes deux de 13 en date du 26 septembre. Le 2 octobre il reçoit un 12 en Histoire-Géographie puis le lendemain un 8 en français. Nous pouvons en déduire que :\n",
    "- en date du 2 octobre : sa moyenne générale est passée de 13 à 12,5.\n",
    "- en date du 3 octobre : sa moyenne générale est passée de 12,5 à 11 et sa moyenne en français a chuté de 13 à 10,5\n",
    "\n",
    "En termes pythonesques, pour chaque nouvel enregistrement, nous allons calculer automatiquement les moyennes générale et dans la discipline afin de rajouter l’information dans la structure de données. Si l’état de notre structure est la suivante :\n",
    "\n",
    "```py\n",
    "{\n",
    "    'Français': [\n",
    "        ('2020-09-26', '13'),\n",
    "        ('2020-12-13', '7'),\n",
    "        ('2020-12-25', '6')\n",
    "    ],\n",
    "    'Anglais': [\n",
    "        ('2020-09-03', '6'),\n",
    "        ('2020-09-29', '9'),\n",
    "        ('2020-10-14', '9')\n",
    "    ]\n",
    "}\n",
    "```\n",
    "\n",
    "L’objectif est de l’enrechir de cette manière :\n",
    "\n",
    "```py\n",
    "{\n",
    "    'Français': [\n",
    "        ('2020-09-26', '13', 13),\n",
    "        ('2020-12-13', '7', 10),\n",
    "        ('2020-12-25', '6', 8.66)\n",
    "    ],\n",
    "    'Anglais': [\n",
    "        ('2020-09-03', '6', 6),\n",
    "        ('2020-09-29', '9', 7.5),\n",
    "        ('2020-10-14', '9', 8)\n",
    "    ],\n",
    "    'Générale': {\n",
    "        '2020-09-03': 6,\n",
    "        '2020-09-26': 9.5,\n",
    "        '2020-09-29': 9.33,\n",
    "        '2020-10-14': 9.25,\n",
    "        '2020-12-13': 8.8,\n",
    "        '2020-12-25': 8.33\n",
    "    }\n",
    "}\n",
    "```\n",
    "\n",
    "Commençons par récupérer le dictionnaire de nos données :"
   ]
  },
  {
   "cell_type": "code",
   "execution_count": null,
   "metadata": {},
   "outputs": [],
   "source": [
    "# Importation des modules\n",
    "import csv\n",
    "from collections import defaultdict\n",
    "\n",
    "# Chargement de la ressource dans une variable 'fichier'\n",
    "with open('notes.csv') as fichier:\n",
    "\n",
    "    # Création d'un lecteur de fichier\n",
    "    lecteur = csv.DictReader(fichier, delimiter='\\t')\n",
    "\n",
    "    # Sauvegarde des lignes du fichier\n",
    "    data = [ ligne for ligne in lecteur ]\n",
    "\n",
    "# Une liste de tuples par discipline\n",
    "data_dict = defaultdict(list)\n",
    "\n",
    "for d in data:\n",
    "    data_dict[d['discipline']].append(\n",
    "        ( d['date'], d['note'] )\n",
    "    )\n",
    "\n",
    "# Tri en place des dates par discpline\n",
    "for discipline, dates in data_dict.items():\n",
    "    dates.sort()"
   ]
  },
  {
   "cell_type": "markdown",
   "metadata": {},
   "source": [
    "## Focus sur les boucles\n",
    "\n",
    "Les structures du type `for … in … :` sont appelées *structures itératives*, ou *boucles*. Elles mobilisent un itérateur afin d’interroger successivement et de manière systématique chaque élément de la structure.\n",
    "\n",
    "Le langage Python mobilise un mécanisme interne qui consiste à initialiser un compteur à 0 qui s’incrémentera à chaque passage jusqu’à atteindre le nombre total d’éléments dans la structure, moins une unité.\n",
    "\n",
    "Pour illustrer le mécanisme, imaginons la liste des ingrédients d’une pizza :"
   ]
  },
  {
   "cell_type": "code",
   "execution_count": null,
   "metadata": {},
   "outputs": [],
   "source": [
    "pizza = ['tomate', 'poivrons', 'mozzarella', 'thon']"
   ]
  },
  {
   "cell_type": "markdown",
   "metadata": {},
   "source": [
    "Cette pizza dispose de quatre ingrédients au total. Python attribue un indice à chacun de ces ingrédients, en commençant à 0 :\n",
    "- indice 0 : tomate\n",
    "- indice 1 : poivrons\n",
    "- indice 2 : mozzarella\n",
    "- indice 3 : thon\n",
    "\n",
    "Pour te convaincre, il suffit d’accéder de manière atomique à chaque élément de la liste :"
   ]
  },
  {
   "cell_type": "code",
   "execution_count": null,
   "metadata": {},
   "outputs": [],
   "source": [
    "print(pizza[0])\n",
    "print(pizza[1])\n",
    "print(pizza[2])\n",
    "print(pizza[3])"
   ]
  },
  {
   "cell_type": "markdown",
   "metadata": {},
   "source": [
    "Revenons à notre boucle `for … in … :`.\n",
    "\n",
    "Au premier passage dans la boucle, un compteur est initialisé à 0. Python traite la donnée enregistrée à l’indice de la valeur du compteur, à savoir 0, qui contient la tomate. À la fin du traitement, le compteur est incrémenté, ce qui signifie que Python lui ajoute 1.\n",
    "\n",
    "Au second passage dans la boucle, le compteur vaut 1, aussi Python traite l’information à l’indice 1, à savoir les poivrons, et ainsi de suite jusqu’au moment où le dernier ingrédient, à l’indice 3 aura été traité. À ce moment, le compteur interne passe à 4, qui est au-dessus de l’indice maximal de la liste des ingrédients de notre pizza (3). Python sort alors de la boucle.\n",
    "\n",
    "Pour révéler le compteur, Python met à disposition une fonction `enumerate()` :"
   ]
  },
  {
   "cell_type": "code",
   "execution_count": null,
   "metadata": {},
   "outputs": [],
   "source": [
    "for compteur, ingredient in enumerate(pizza):\n",
    "    print(compteur, ingredient)"
   ]
  },
  {
   "cell_type": "markdown",
   "metadata": {},
   "source": [
    "Un exemple un peu plus complexe, qui se rapproche de notre projet, est celui d’une liste de courses avec, pour chaque élément, une quantité :"
   ]
  },
  {
   "cell_type": "code",
   "execution_count": null,
   "metadata": {},
   "outputs": [],
   "source": [
    "courses = [\n",
    "    ('lait', 6),\n",
    "    ('riz', 2),\n",
    "    ('eau', 6),\n",
    "    ('pois cassés', 1)\n",
    "]"
   ]
  },
  {
   "cell_type": "markdown",
   "metadata": {},
   "source": [
    "Avec une boucle simple, nous pouvons lister les tuples :"
   ]
  },
  {
   "cell_type": "code",
   "execution_count": null,
   "metadata": {},
   "outputs": [],
   "source": [
    "for produit in courses:\n",
    "    print(produit)"
   ]
  },
  {
   "cell_type": "markdown",
   "metadata": {},
   "source": [
    "Pour accéder indépendamment à chaque composant d’un élément (le nom du produit et la quantité à acheter), nous devons déplier le tuple. Comme chaque tuple est composé de deux composants, on utilise deux variables :"
   ]
  },
  {
   "cell_type": "code",
   "execution_count": null,
   "metadata": {},
   "outputs": [],
   "source": [
    "for produit, quantite in courses:\n",
    "    print(quantite, produit)"
   ]
  },
  {
   "cell_type": "markdown",
   "metadata": {},
   "source": [
    "Si maintenant on veut en plus révéler l’itérateur interne de l’objet avec la fonction `enumerate()`, on doit procéder de manière plus subtile :"
   ]
  },
  {
   "cell_type": "code",
   "execution_count": null,
   "metadata": {},
   "outputs": [],
   "source": [
    "for i, (produit, quantite) in enumerate(courses):\n",
    "    print(i, quantite, produit)"
   ]
  },
  {
   "cell_type": "markdown",
   "metadata": {},
   "source": [
    "La raison est assez simple à comprendre : la fonction `enumerate()` renvoie une structure composée de deux éléments (l’itérateur et l’objet, peu importe sa complexité). Dans le cas d’un objet complexe, ici un tuple, on a besoin de révéler sa structure dans l’expression de la boucle."
   ]
  },
  {
   "cell_type": "markdown",
   "metadata": {},
   "source": [
    "## Calculer la moyenne actualisée d’une discipline\n",
    "\n",
    "Avant d’opérer sur le fichier complet, concentrons-nous sur une discipline, les mathématiques :"
   ]
  },
  {
   "cell_type": "code",
   "execution_count": null,
   "metadata": {},
   "outputs": [],
   "source": [
    "# Sélection des notes en maths\n",
    "maths = data_dict[\"Mathématiques\"]\n",
    "\n",
    "# Pour chaque date et note…\n",
    "for date, note in maths:\n",
    "    # … afficher la date : note\n",
    "    print(f\"{date} : {note}\")"
   ]
  },
  {
   "cell_type": "markdown",
   "metadata": {},
   "source": [
    "En t’aidant de la fonction `enumerate()` et de ce que nous avons expliqué à la section précédente, tu devrais être en mesure de révéler l’itérateur de la variable `maths` tout en accédent de manière individuelle à ses composants :"
   ]
  },
  {
   "cell_type": "code",
   "execution_count": null,
   "metadata": {},
   "outputs": [],
   "source": [
    "# Pour chaque élément de \"maths\"\n",
    "\n",
    "    # Imprimer l'état du compteur, la date de la note et la note\n"
   ]
  },
  {
   "cell_type": "markdown",
   "metadata": {},
   "source": [
    "Attardons-nous sur les deux premières lignes :\n",
    "\n",
    "```\n",
    "0 2020-09-04 10\n",
    "1 2020-09-05 10\n",
    "```\n",
    "\n",
    "En date du 4 septembre, notre élève a obtenu sa première note en mathématique, un 10. Sa moyenne vaut donc 10. Sachant que le calcul d’une moyenne arithmétique s’obtient en faisant la somme des notes que l’on divise ensuite par le nombre de notes, pour obtenir une moyenne de 10, nous avons effectué l’opération suivante : \n",
    "\n",
    "$10 \\div 1 = 10$\n",
    "\n",
    "Au tour suivant de la boucle, lorsque le compteur vaudra 1, le calcul deviendra :\n",
    "\n",
    "$(10 + 10) \\div 2 = 10$\n",
    "\n",
    "On remarque une règle linéaire entre le compteur et le nombre de tours dans la boucle, que l’on peut traduire dans un tableau :\n",
    "\n",
    "|Compteur|Nb de tours|\n",
    "|-|-|\n",
    "|0|1|\n",
    "|1|2|\n",
    "|2|3|\n",
    "|…|…|\n",
    "|$c$|$c+1$|\n",
    "\n",
    "Maintenant, essaie d’afficher côte-à-côte le compteur et le nombre de tours dans la boucle :"
   ]
  },
  {
   "cell_type": "code",
   "execution_count": null,
   "metadata": {},
   "outputs": [],
   "source": [
    "# Pour chaque élément de \"maths\"\n",
    "\n",
    "    # Imprimer l'état du compteur et le nombre de tours\n"
   ]
  },
  {
   "cell_type": "markdown",
   "metadata": {},
   "source": [
    "À ce stade, nous avons le nombre de notes obtenues à une date précise (égal au nombre de tours dans la boucle) et la note du jour. Il nous manque un calcul : la somme des notes obtenues jusque-là.\n",
    "\n",
    "Le plus simple est de créer une variable, en dehors de la boucle, qui vaut 0 au départ et à laquelle on additionne chaque valeur analysée. Un exemple simple avec une liste de notes :"
   ]
  },
  {
   "cell_type": "code",
   "execution_count": null,
   "metadata": {},
   "outputs": [],
   "source": [
    "# Une liste de notes\n",
    "notes = [8, 12, 15, 9]\n",
    "\n",
    "# Total initialisé à 0\n",
    "total = 0\n",
    "\n",
    "# Pour chaque…\n",
    "for i, note in enumerate(notes):\n",
    "\n",
    "    # On ajoute au total la note actuelle\n",
    "    # Syntaxe abrégée : total += note\n",
    "    total = total + note\n",
    "\n",
    "    # Affichage du total à chaque étape\n",
    "    print(i, total)"
   ]
  },
  {
   "cell_type": "markdown",
   "metadata": {},
   "source": [
    "À toi d’inclure cette astuce dans ton algorithme pour calculer à chaque étape le total et pour le diviser par le nombre de tours pour obtenir la moyenne. On voudrait obtenir un affichage tel que :\n",
    "\n",
    "```\n",
    "2020-09-04 10 10\n",
    "2020-09-05 10 10\n",
    "2020-09-30 8 9.33\n",
    "2020-10-09 10 9.5\n",
    "…\n",
    "```\n",
    "\n",
    "**Attention !** Souviens-toi de la fonction `int()` qui permet d’effectuer une conversion de type d’une chaîne de caractères vers un entier numérique.\n",
    "\n",
    "**Attention !** Si tu obtiens une erreur résultat d’une division par zéro, rappelle-toi aussi qu’elle est réputée indéfinie en mathématiques. Pour contourner le problème, mets en application la règle PEMDAS que tu as dû voir en cours, relative à la priorité des opérations."
   ]
  },
  {
   "cell_type": "code",
   "execution_count": null,
   "metadata": {},
   "outputs": [],
   "source": [
    "# Total initialisé à 0\n",
    "\n",
    "\n",
    "# Pour chaque élément de \"maths\"\n",
    "\n",
    "    # Ajouter la note, convertie en entier numérique, au total\n",
    "\n",
    "    # Imprimer la date, la note et la moyenne\n"
   ]
  },
  {
   "cell_type": "markdown",
   "metadata": {},
   "source": [
    "Il ne reste plus qu’à modifier la structure de données pour intégrer le calcul de la moyenne. Faisons cette opération ensemble :"
   ]
  },
  {
   "cell_type": "code",
   "execution_count": null,
   "metadata": {},
   "outputs": [],
   "source": [
    "# Total initialisé à 0\n",
    "total = 0\n",
    "\n",
    "# Pour chaque tour dans la boucle\n",
    "for i, (date, note) in enumerate(maths):\n",
    "    \n",
    "    # Calcul du total\n",
    "    total += int(note)\n",
    "    \n",
    "    # Moyenne\n",
    "    moyenne = total / (i + 1)\n",
    "\n",
    "    # La ligne courante (date, note), devient (date, note, moyenne)\n",
    "    maths[i] = (date, note, moyenne)"
   ]
  },
  {
   "cell_type": "markdown",
   "metadata": {},
   "source": [
    "## Une moyenne générale\n",
    "\n",
    "L’idée maintenant est de calculer la moyenne générale. La seule difficulté réside dans le fait qu'il est possible d’avoir plusieurs notes le même jour ! Utilisons une structure minimale pour observer les étapes à accomplir :"
   ]
  },
  {
   "cell_type": "code",
   "execution_count": null,
   "metadata": {},
   "outputs": [],
   "source": [
    "d = {\n",
    "    'Français': [\n",
    "        ('2020-09-26', '13', 13),\n",
    "        ('2020-12-13', '7', 10),\n",
    "        ('2020-12-25', '6', 8.66)\n",
    "    ],\n",
    "    'Anglais': [\n",
    "        ('2020-09-03', '6', 6),\n",
    "        ('2020-09-29', '9', 7.5),\n",
    "        ('2020-10-14', '9', 8),\n",
    "        ('2020-12-13', '12', 9)\n",
    "    ]\n",
    "}"
   ]
  },
  {
   "cell_type": "markdown",
   "metadata": {},
   "source": [
    "Si l’on a calculé une moyenne pour chaque date dans une même discipline, il est naturel de poursuivre la logique à la moyenne générale. Mettons au point les grandes lignes de notre algorithme :\n",
    "\n",
    "1. Ajouter une clé `Générale` au dictionnaire, qui décrira un sous-dictionnaire avec autant de clés que de dates ;\n",
    "2. initialiser un compteur et une variable pour le total ;\n",
    "3. pour chaque date :\n",
    "    - trouver les notes à date dans les disciplines ;\n",
    "    - incrémenter le compteur ;\n",
    "    - calculer la moyenne ;\n",
    "    - ajouter un enregistrement dans la moyenne générale."
   ]
  },
  {
   "cell_type": "markdown",
   "metadata": {},
   "source": [
    "### 1e étape : compléter le dictionnaire\n",
    "\n",
    "Le dictionnaire sur lequel nous travaillons pour cet exercice est constitué de deux clés : `Français` et `Anglais`. Nous pouvons en rajouter une troisième, nommée `Générale`, chargée d'enregistrer un dictionnaire de `dates: moyennes` :"
   ]
  },
  {
   "cell_type": "code",
   "execution_count": null,
   "metadata": {},
   "outputs": [],
   "source": [
    "# Insertion d'une clé \"Générale\"\n",
    "d['Générale'] = dict()"
   ]
  },
  {
   "cell_type": "markdown",
   "metadata": {},
   "source": [
    "Il s’agit maintenant de la remplir avec les dates trouvées dans le reste du dictionnaire et, pour chacune, une valeur nulle. Essayons avec ce que nous connaissons :"
   ]
  },
  {
   "cell_type": "code",
   "execution_count": null,
   "metadata": {},
   "outputs": [],
   "source": [
    "# Pour chaque résultat dans le dictionnaire\n",
    "for resultat in d.values():\n",
    "    # Pour chaque triplet de date, note et moyenne\n",
    "    for date, note, moyenne in resultat:\n",
    "        # Ajouter la date à la liste de dates\n",
    "        d['Générale'][date] = float()"
   ]
  },
  {
   "cell_type": "markdown",
   "metadata": {},
   "source": [
    "Python lève une exception `ValueError` pour la simple et bonne raison qu’il s’attend, pour chaque clé, à trouver un triplet de données. Or, rappelle-toi que nous venons juste d’insérer une nouvelle clé `Générale` qui, elle, est vierge !\n",
    "\n",
    "On a besoin d’ajouter une nouvelle instruction, qui vérifie que la discipline que l’on est en train de parcourir ne correspond à la clé `Générale`. Note bien au passage la méthode `items()` sur le dictionnaire qui permet de récupérer aussi les clés :"
   ]
  },
  {
   "cell_type": "code",
   "execution_count": null,
   "metadata": {},
   "outputs": [],
   "source": [
    "# Pour chaque résultat dans le dictionnaire\n",
    "for discipline, resultat in d.items():\n",
    "    # Si la discipline est différente de \"Générale\"\n",
    "    if discipline != 'Générale':\n",
    "        # Pour chaque triplet de date, note et moyenne\n",
    "        for date, note, moyenne in resultat:\n",
    "            # Ajouter une clé date avec pour valeur une structure float vide\n",
    "            d['Générale'][date] = float()"
   ]
  },
  {
   "cell_type": "markdown",
   "metadata": {},
   "source": [
    "Pourquoi une structure `float()` ? La structure `int()` que nous avons utilisé jusqu’ici permet de décrire des entiers numériques. Un `float()` peut quant à lui enregistrer des nombres décimaux, ce qui est la caractéristique d’une moyenne."
   ]
  },
  {
   "cell_type": "markdown",
   "metadata": {},
   "source": [
    "### 2e étape : initialiser les variables compteur et total\n",
    "\n",
    "Il n’y a pas plus simple, à toi d’initialiser les variables à 0 !"
   ]
  },
  {
   "cell_type": "code",
   "execution_count": null,
   "metadata": {},
   "outputs": [],
   "source": [
    "# Compteur et total initialisés à 0\n",
    "compteur, total = "
   ]
  },
  {
   "cell_type": "markdown",
   "metadata": {},
   "source": [
    "### 3e étape : calculer la moyenne générale\n",
    "\n",
    "Pour cette étape, opérons ensemble. Attention au piège qui survient dès le début : un dictionnaire ne conserve pas l’ordre d’insertion de ses éléments. Il y a une raison à cela, bien entendu, mais ne nous éparpillons pas. On doit par conséquent bien penser à trier les dates pour la clé `Générale` :"
   ]
  },
  {
   "cell_type": "code",
   "execution_count": null,
   "metadata": {},
   "outputs": [],
   "source": [
    "# Pour chaque date unique\n",
    "for date_unique in sorted(d['Générale']):\n",
    "\n",
    "    # Parcourir le dictionnaire\n",
    "    for discipline, resultat in d.items():\n",
    "\n",
    "        # Seulement si la discipline n'est pas \"Générale\"\n",
    "        if discipline != 'Générale':\n",
    "\n",
    "            # On déplie le triplet\n",
    "            for date, note, moyenne in resultat:\n",
    "\n",
    "                # On vérifie que la date du résultat correspond à la date analysée\n",
    "                if date == date_unique:\n",
    "\n",
    "                    # Incrémentation du nombre de notes\n",
    "                    compteur += 1\n",
    "\n",
    "                    # Addition au total\n",
    "                    total += int(note)\n",
    "\n",
    "                    # Modification de la moyenne pour le jour\n",
    "                    d['Générale'][date] = total / compteur"
   ]
  },
  {
   "cell_type": "markdown",
   "metadata": {},
   "source": [
    "Il ne nous reste plus qu’à vérifier si le résultat est cohérent. Un calcul à la main nous permet de trouver une moyenne de :\n",
    "\n",
    "$(13+7+6+6+9+9+12) \\div 7 = 8.857142857142858$\n",
    "\n",
    "Quand l’enregistrement `'2020-12-25'` correspondant à la dernière date de la clé `Générale` vaut :"
   ]
  },
  {
   "cell_type": "code",
   "execution_count": null,
   "metadata": {},
   "outputs": [],
   "source": [
    "print(d['Générale']['2020-12-25'])"
   ]
  },
  {
   "cell_type": "markdown",
   "metadata": {},
   "source": [
    "## Application\n",
    "\n",
    "À présent, essaie de répéter les étapes pour calculer la moyenne générale de l‘élève que nous suivons !"
   ]
  },
  {
   "cell_type": "code",
   "execution_count": null,
   "metadata": {},
   "outputs": [],
   "source": [
    "# Ton code ici !"
   ]
  }
 ],
 "metadata": {
  "kernelspec": {
   "display_name": "Python 3",
   "language": "python",
   "name": "python3"
  },
  "language_info": {
   "codemirror_mode": {
    "name": "ipython",
    "version": 3
   },
   "file_extension": ".py",
   "mimetype": "text/x-python",
   "name": "python",
   "nbconvert_exporter": "python",
   "pygments_lexer": "ipython3",
   "version": "3.7.7"
  }
 },
 "nbformat": 4,
 "nbformat_minor": 4
}
